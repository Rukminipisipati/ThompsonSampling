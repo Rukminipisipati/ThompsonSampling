{
 "cells": [
  {
   "cell_type": "code",
   "execution_count": 26,
   "id": "67f4dfe5",
   "metadata": {},
   "outputs": [],
   "source": [
    "#Thompson Sampling algorithm under Reinforcement Learning\n",
    "import pandas as pd\n",
    "import numpy as np\n",
    "import matplotlib.pyplot as plt"
   ]
  },
  {
   "cell_type": "code",
   "execution_count": 27,
   "id": "0e1e3563",
   "metadata": {},
   "outputs": [],
   "source": [
    "#Importing the dataset\n",
    "dataset=pd.read_csv('C:/Users/rukmi/OneDrive/Documents/ML Course/Ads_CTR_Optimisation.csv')"
   ]
  },
  {
   "cell_type": "code",
   "execution_count": 28,
   "id": "552a052f",
   "metadata": {},
   "outputs": [],
   "source": [
    "#Algorithm Implementation\n",
    "import random\n",
    "N = 10000 #Number of rounds\n",
    "d = 10    #Total number of Ads in each round\n",
    "ads_selected = []\n",
    "numbers_of_rewards_1 = [0]*d\n",
    "numbers_of_rewards_0 = [0]*d\n",
    "total_reward=0\n",
    "for n in range(0,N):\n",
    "    ad = 0\n",
    "    max_random = 0\n",
    "    for i in range(0,d):\n",
    "        random_beta = random.betavariate(numbers_of_rewards_1[i]+1, numbers_of_rewards_0[i]+1)\n",
    "        if random_beta > max_random:\n",
    "            max_random = random_beta\n",
    "            ad=i\n",
    "    ads_selected.append(ad)\n",
    "    reward = dataset.values[n,ad]\n",
    "    if reward==1:\n",
    "        numbers_of_rewards_1[ad] = numbers_of_rewards_1[ad] + 1\n",
    "    else:\n",
    "        numbers_of_rewards_0[ad] = numbers_of_rewards_0[ad] + 1\n",
    "    total_reward = total_reward + reward"
   ]
  },
  {
   "cell_type": "code",
   "execution_count": 29,
   "id": "5cd31c65",
   "metadata": {},
   "outputs": [
    {
     "data": {
      "image/png": "[encoded data removed]",
      "text/plain": [
       "<Figure size 432x288 with 1 Axes>"
      ]
     },
     "metadata": {
      "needs_background": "light"
     },
     "output_type": "display_data"
    }
   ],
   "source": [
    "#Visualizing the results\n",
    "plt.hist(ads_selected)\n",
    "plt.title('Histogram Of ads selections')\n",
    "plt.xlabel('Ads')\n",
    "plt.ylabel('Number Of times each ad was selected')\n",
    "plt.show()\n",
    "#Thompson Sampling is able to get the best results in least number of rounds possible."
   ]
  },
  {
   "cell_type": "code",
   "execution_count": null,
   "id": "d8f426cf",
   "metadata": {},
   "outputs": [],
   "source": []
  }
 ],
 "metadata": {
  "kernelspec": {
   "display_name": "Python 3 (ipykernel)",
   "language": "python",
   "name": "python3"
  },
  "language_info": {
   "codemirror_mode": {
    "name": "ipython",
    "version": 3
   },
   "file_extension": ".py",
   "mimetype": "text/x-python",
   "name": "python",
   "nbconvert_exporter": "python",
   "pygments_lexer": "ipython3",
   "version": "3.10.2"
  }
 },
 "nbformat": 4,
 "nbformat_minor": 5
}
